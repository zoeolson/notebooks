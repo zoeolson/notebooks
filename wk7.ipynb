{
 "cells": [
  {
   "cell_type": "markdown",
   "metadata": {},
   "source": [
    "# Wk 7:        Live Visualizations"
   ]
  },
  {
   "cell_type": "markdown",
   "metadata": {},
   "source": [
    "## R, R-Studio, & Jupyter Notebook"
   ]
  },
  {
   "cell_type": "markdown",
   "metadata": {},
   "source": [
    "R:"
   ]
  },
  {
   "cell_type": "markdown",
   "metadata": {},
   "source": [
    "### R-Studio"
   ]
  },
  {
   "cell_type": "markdown",
   "metadata": {},
   "source": [
    "The go-to way for creaing live visualizations in R-Studio is with the web application framework Shiny.  Shiny is comprised of two parts, ui.R and server.R. The first of the two contains code about the design of the web app, such as number of panels, layout, sliders, etc.  The server.r code contains methods for getting the data in and displaying graphics such as charts, plots, and interactive 3-D visualizations. \n",
    "It also provides a relatively simple way to incorporate live data and create visualizations that constantly change. "
   ]
  },
  {
   "cell_type": "markdown",
   "metadata": {},
   "source": [
    "See example here from http://shiny.rstudio.com/reference/shiny/latest/reactiveTimer.html"
   ]
  },
  {
   "cell_type": "code",
   "execution_count": 1,
   "metadata": {
    "collapsed": false
   },
   "outputs": [
    {
     "ename": "SyntaxError",
     "evalue": "invalid syntax (<ipython-input-1-d6da4200fba8>, line 1)",
     "output_type": "error",
     "traceback": [
      "\u001b[0;36m  File \u001b[0;32m\"<ipython-input-1-d6da4200fba8>\"\u001b[0;36m, line \u001b[0;32m1\u001b[0m\n\u001b[0;31m    see example here:\u001b[0m\n\u001b[0m              ^\u001b[0m\n\u001b[0;31mSyntaxError\u001b[0m\u001b[0;31m:\u001b[0m invalid syntax\n"
     ]
    }
   ],
   "source": [
    "see example here:\n",
    "    ## Only run examples in interactive R sessions\n",
    "if (interactive()) {\n",
    "\n",
    "ui <- fluidPage(\n",
    "  sliderInput(\"n\", \"Number of observations\", 2, 1000, 500),\n",
    "  plotOutput(\"plot\")\n",
    ")\n",
    "\n",
    "server <- function(input, output) {\n",
    "\n",
    "  # Anything that calls autoInvalidate will automatically invalidate\n",
    "  # every 2 seconds.\n",
    "  autoInvalidate <- reactiveTimer(2000)\n",
    "\n",
    "  observe({\n",
    "    # Invalidate and re-execute this reactive expression every time the\n",
    "    # timer fires.\n",
    "    autoInvalidate()\n",
    "\n",
    "    # Do something each time this is invalidated.\n",
    "    # The isolate() makes this observer _not_ get invalidated and re-executed\n",
    "    # when input$n changes.\n",
    "    print(paste(\"The value of input$n is\", isolate(input$n)))\n",
    "  })\n",
    "\n",
    "  # Generate a new histogram each time the timer fires, but not when\n",
    "  # input$n changes.\n",
    "  output$plot <- renderPlot({\n",
    "    autoInvalidate()\n",
    "    hist(rnorm(isolate(input$n)))\n",
    "  })\n",
    "}\n",
    "\n",
    "shinyApp(ui, server)\n",
    "}"
   ]
  },
  {
   "cell_type": "markdown",
   "metadata": {},
   "source": [
    "Adding your own data and customizing the visualization is more difficult, espeically when you want to constantly update your dataframe. There are two ways to do this, use a sleep statement, or take advantage of Shiny's reactive timer feature. We will do the latter here:"
   ]
  },
  {
   "cell_type": "markdown",
   "metadata": {},
   "source": [
    "## R in Jupyter"
   ]
  },
  {
   "cell_type": "markdown",
   "metadata": {},
   "source": [
    "I struggled alot with getting the R kernel to work in Jupyter. Here is how I eventually solved it:"
   ]
  },
  {
   "cell_type": "markdown",
   "metadata": {},
   "source": [
    "The R project has decided to take its own route in exploring 'literate computing'. The project originally accomodated for Ipython notebooks, and has continued to provide support for Jupyter notebook accomodation. However, R-Studio developed it's own version of a notebook, called R-markdown, which is very similar to Jupyter, except for the fact that it is specialized for R. This created some tension between Jupyter developers and R-Studio developers around the notion that R developers continued to develop the langauge, and tools for the langauge, in such a way that separates R from other statistical computing langagues. Arguably, this positions R as the \"best\" statistical programming langague and toolset. This move also creates the need to compare, and essentially 'rank', these toolsets against eachother, rather than incorporate them into a fluid computing environment. \n",
    "\n",
    "\"As one of the maintainers of IRkernel, I’m pretty sad that you chose to do your own thing instead of contributing to our project.\n",
    "The growing, language-agnostic tooling around the Jupyter notebook ecosystem could serve to bring R closer to other languages instead of building a little ghetto around it with R-specific solutions that build only on a tiny homegrown toolset.\"\n",
    "\n",
    "  -Phil Schaf"
   ]
  },
  {
   "cell_type": "markdown",
   "metadata": {},
   "source": [
    "R in individual cells vs R as a notebook"
   ]
  },
  {
   "cell_type": "markdown",
   "metadata": {},
   "source": [
    "## Jupyter"
   ]
  },
  {
   "cell_type": "markdown",
   "metadata": {},
   "source": [
    "In terms of live, interactive visualizations in Jupyter, Bokeh and Plotly seem to be the best tools."
   ]
  },
  {
   "cell_type": "markdown",
   "metadata": {
    "collapsed": true
   },
   "source": [
    "Sadly, Bokeh encounters an error recognizing the plotting module that is needed to display streaming data on my machine. After spending a few hours trying to fix the error, I decided to save this for a later project."
   ]
  },
  {
   "cell_type": "markdown",
   "metadata": {},
   "source": [
    "Givin that it is funcitonal, Bokeh displays appear to be easily integrated with notebooks, with a few cases of failure around memory overflow. https://alextomar.wordpress.com/2016/03/27/real-time-streaming-plots-with-python-and-bokeh/ "
   ]
  },
  {
   "cell_type": "markdown",
   "metadata": {},
   "source": [
    "On the other hand, Plotly offers many resources for getting streaming data to display. https://plot.ly/matlab/streaming-tutorial/"
   ]
  },
  {
   "cell_type": "markdown",
   "metadata": {},
   "source": [
    "It appears matplotlib also can also be used to display streaming data, although, based on what I have read online, it is a less popular choice to do so."
   ]
  },
  {
   "cell_type": "code",
   "execution_count": null,
   "metadata": {
    "collapsed": true
   },
   "outputs": [],
   "source": []
  }
 ],
 "metadata": {
  "anaconda-cloud": {},
  "kernelspec": {
   "display_name": "Python [conda root]",
   "language": "python",
   "name": "conda-root-py"
  },
  "language_info": {
   "codemirror_mode": {
    "name": "ipython",
    "version": 2
   },
   "file_extension": ".py",
   "mimetype": "text/x-python",
   "name": "python",
   "nbconvert_exporter": "python",
   "pygments_lexer": "ipython2",
   "version": "2.7.12"
  }
 },
 "nbformat": 4,
 "nbformat_minor": 1
}
